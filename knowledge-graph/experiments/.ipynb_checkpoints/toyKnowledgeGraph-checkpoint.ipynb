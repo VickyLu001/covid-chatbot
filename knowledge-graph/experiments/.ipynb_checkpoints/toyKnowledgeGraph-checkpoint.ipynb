{
 "cells": [
  {
   "cell_type": "code",
   "execution_count": 1,
   "metadata": {},
   "outputs": [],
   "source": [
    "import networkx as nx\n",
    "import pandas as pd\n",
    "import matplotlib.pyplot as plt\n",
    "import json\n",
    "from collections import defaultdict \n",
    "import sys\n",
    "sys.path.append(\"..\")\n",
    "from helpers import kg_to_json\n"
   ]
  },
  {
   "cell_type": "code",
   "execution_count": 12,
   "metadata": {},
   "outputs": [],
   "source": [
    "\n",
    "\n",
    "def buildGraphFromNER(file):\n",
    "    \"\"\"\n",
    "    Input:\n",
    "        string: NER file name\n",
    "    Return:\n",
    "        knowledgeGraph: networkx.Graph object, the knowledge graph with entities as nodes and ocurrence as edge weights\n",
    "        entitySource: dict, map from entities to source cord_id\n",
    "        souceEntity: dict, map from source cord_id to entities\n",
    "    \"\"\"\n",
    "    entitySource = defaultdict(set)\n",
    "    souceEntity = defaultdict(set)\n",
    "    legalLabels = ['DRUG', 'CHEMICAL', 'DISEASE']\n",
    "    fi = open(file)\n",
    "    knowledgeGraph = nx.Graph()\n",
    "    line = fi.readline()\n",
    "    while line:\n",
    "#         if \"ajlctjeb\" in line:\n",
    "#             break\n",
    "        words = line.strip().split('#')\n",
    "        cord_uid = words[0]\n",
    "        entities = set()\n",
    "        labels = {}\n",
    "        for index in range((len(words)-1)//3):\n",
    "            entity = words[1+3*index]\n",
    "            label = words[2+3*index]\n",
    "            if label not in legalLabels:\n",
    "                continue\n",
    "            location = words[3+3*index]\n",
    "            entities.add(entity)\n",
    "            labels[entity] = label\n",
    "        knowledgeGraph.add_nodes_from([(label, {\"label\":labels[label]}) for label in labels])\n",
    "        \n",
    "        souceEntity[cord_uid] = entities\n",
    "        entities = list(entities)\n",
    "        entSize = len(entities)\n",
    "        for i in range(entSize):\n",
    "            for j in range(i+1, entSize):\n",
    "                if knowledgeGraph.has_edge(entities[i], entities[j]):\n",
    "                    # we added this one before, just increase the weight by one\n",
    "                    knowledgeGraph[entities[i]][entities[j]]['weight'] += 1\n",
    "                else:\n",
    "                    # new edge. add with weight=1\n",
    "                    knowledgeGraph.add_edge(entities[i], entities[j], weight=1)\n",
    "            entitySource[entities[i]].add(cord_uid)\n",
    "        line = fi.readline()\n",
    "    fi.close()\n",
    "    return knowledgeGraph,entitySource,souceEntity\n",
    "    "
   ]
  },
  {
   "cell_type": "markdown",
   "metadata": {},
   "source": [
    "# Build knowledge graph from Med7 NER results"
   ]
  },
  {
   "cell_type": "code",
   "execution_count": 7,
   "metadata": {
    "scrolled": true
   },
   "outputs": [],
   "source": [
    "file = \"../data/ner_abstract/med7_lemma_abbr_abstract.txt\"\n",
    "med7Graph, med7Ent2Souce, med7Souce2Ent = buildGraphFromNER(file)\n",
    "#print(med7Graph['remdesivir'][:10)"
   ]
  },
  {
   "cell_type": "code",
   "execution_count": 8,
   "metadata": {},
   "outputs": [
    {
     "name": "stdout",
     "output_type": "stream",
     "text": [
      "number of nodes 38097\n",
      "number of edges 240123\n"
     ]
    }
   ],
   "source": [
    "print(\"number of nodes\", med7Graph.number_of_nodes())\n",
    "print(\"number of edges\", med7Graph.number_of_edges())"
   ]
  },
  {
   "cell_type": "markdown",
   "metadata": {},
   "source": [
    "# Build knowledge graph from bc5cdr NER results\n"
   ]
  },
  {
   "cell_type": "code",
   "execution_count": 9,
   "metadata": {},
   "outputs": [],
   "source": [
    "file = \"../data/ner_abstract/en_ner_bc5cdr_md_lemma_abbr_abstract.txt\"\n",
    "bc5cdrGraph, bc5cdrEnt2Souce, bc5cdrSouce2Ent = buildGraphFromNER(file)"
   ]
  },
  {
   "cell_type": "code",
   "execution_count": 10,
   "metadata": {},
   "outputs": [
    {
     "name": "stdout",
     "output_type": "stream",
     "text": [
      "number of nodes 115278\n",
      "number of edges 1896274\n"
     ]
    }
   ],
   "source": [
    "print(\"number of nodes\", bc5cdrGraph.number_of_nodes())\n",
    "print(\"number of edges\", bc5cdrGraph.number_of_edges())"
   ]
  },
  {
   "cell_type": "code",
   "execution_count": 11,
   "metadata": {},
   "outputs": [
    {
     "name": "stdout",
     "output_type": "stream",
     "text": [
      "{'weight': 3}\n"
     ]
    }
   ],
   "source": [
    "print(bc5cdrGraph['fever']['remdesivir'])"
   ]
  },
  {
   "cell_type": "code",
   "execution_count": 13,
   "metadata": {},
   "outputs": [],
   "source": [
    "def pruningGraph(graph, threshold):\n",
    "    \"\"\"\n",
    "    Input:\n",
    "        graph: networkx.Graph object\n",
    "        threshold: int\n",
    "    Return\n",
    "        graph: networkx.Graph object. Edges whose weight < threshold are pruned. So are isolated nodes\n",
    "    \"\"\"\n",
    "    remove = [(u,v) for u,v,e in graph.edges(data=True) if e['weight'] < threshold]\n",
    "    graph.remove_edges_from(remove)\n",
    "    graph.remove_nodes_from(list(nx.isolates(graph)))\n",
    "    return graph"
   ]
  },
  {
   "cell_type": "code",
   "execution_count": 18,
   "metadata": {},
   "outputs": [
    {
     "name": "stdout",
     "output_type": "stream",
     "text": [
      "Pruned Med7 Graph:\n",
      "number of nodes 3079\n",
      "number of edges 11373\n"
     ]
    }
   ],
   "source": [
    "threshold = 3\n",
    "prunedMed7Graph = pruningGraph(med7Graph, threshold)\n",
    "print(\"Pruned Med7 Graph:\")\n",
    "print(\"number of nodes\", prunedMed7Graph.number_of_nodes())\n",
    "print(\"number of edges\", prunedMed7Graph.number_of_edges())\n",
    "#print(prunedMed7Graph['remdesivir'])"
   ]
  },
  {
   "cell_type": "code",
   "execution_count": 19,
   "metadata": {},
   "outputs": [
    {
     "name": "stdout",
     "output_type": "stream",
     "text": [
      "Pruned bc5cdr Graph:\n",
      "number of nodes 16121\n",
      "number of edges 150965\n"
     ]
    }
   ],
   "source": [
    "threshold = 3\n",
    "prunedbc5cdrGraph = pruningGraph(bc5cdrGraph, threshold)\n",
    "print(\"Pruned bc5cdr Graph:\")\n",
    "print(\"number of nodes\", prunedbc5cdrGraph.number_of_nodes())\n",
    "print(\"number of edges\", prunedbc5cdrGraph.number_of_edges())"
   ]
  },
  {
   "cell_type": "code",
   "execution_count": 20,
   "metadata": {},
   "outputs": [
    {
     "name": "stdout",
     "output_type": "stream",
     "text": [
      "{'weight': 3}\n"
     ]
    }
   ],
   "source": [
    "print(prunedbc5cdrGraph['fever']['remdesivir'])"
   ]
  },
  {
   "cell_type": "markdown",
   "metadata": {},
   "source": [
    "# Build the knowledge graph on both NER results"
   ]
  },
  {
   "cell_type": "code",
   "execution_count": 23,
   "metadata": {},
   "outputs": [],
   "source": [
    "def combined_graphs_edges(Souce2Ent1, Souce2Ent2):\n",
    "    \"\"\"\n",
    "    Input:\n",
    "        Souce2Ent1: dict, map from source cord_id to entities\n",
    "        Souce2Ent2: dict, map from source cord_id to entities\n",
    "    Return:\n",
    "        knowledgeGraph: networkx.Graph object, a knowledge graph built on two NER results\n",
    "    \"\"\"\n",
    "    knowledgeGraph = nx.Graph()\n",
    "    combinedSouce2Ent = defaultdict(set)\n",
    "    for cord_uid in Souce2Ent1:\n",
    "        combinedSouce2Ent[cord_uid].update(Souce2Ent1[cord_uid])\n",
    "    for cord_uid in Souce2Ent2:\n",
    "        combinedSouce2Ent[cord_uid].update(Souce2Ent2[cord_uid])\n",
    "    for cord_uid in combinedSouce2Ent:\n",
    "        entities = list(combinedSouce2Ent[cord_uid])\n",
    "        entSize = len(entities)\n",
    "        for i in range(entSize):\n",
    "            for j in range(i+1, entSize):\n",
    "                if knowledgeGraph.has_edge(entities[i], entities[j]):\n",
    "                    knowledgeGraph[entities[i]][entities[j]]['weight'] += 1\n",
    "                else:\n",
    "                    knowledgeGraph.add_edge(entities[i], entities[j], weight=1)\n",
    "    return knowledgeGraph\n",
    "#     combined = G.copy()\n",
    "#     for u,v,e in H.edges(data=True):\n",
    "#         if combined.has_edge(u,v):\n",
    "#             combined[u][v]['weight'] += e['weight']\n",
    "#         else:\n",
    "#             combined.add_edge(u,v, weight = e['weight'])\n",
    "#     return combined\n",
    "\n"
   ]
  },
  {
   "cell_type": "code",
   "execution_count": 22,
   "metadata": {},
   "outputs": [
    {
     "name": "stdout",
     "output_type": "stream",
     "text": [
      "number of nodes 143295\n",
      "number of edges 2797343\n"
     ]
    }
   ],
   "source": [
    "combinedGraph=combined_graphs_edges(med7Souce2Ent,bc5cdrSouce2Ent)\n",
    "print(\"number of nodes\", combinedGraph.number_of_nodes())\n",
    "print(\"number of edges\", combinedGraph.number_of_edges())"
   ]
  },
  {
   "cell_type": "code",
   "execution_count": 24,
   "metadata": {},
   "outputs": [
    {
     "name": "stdout",
     "output_type": "stream",
     "text": [
      "{'weight': 70}\n"
     ]
    }
   ],
   "source": [
    "print(combinedGraph['fever']['remdesivir'])"
   ]
  },
  {
   "cell_type": "markdown",
   "metadata": {},
   "source": [
    "# Prune the edges whose weight <3"
   ]
  },
  {
   "cell_type": "code",
   "execution_count": 25,
   "metadata": {},
   "outputs": [
    {
     "name": "stdout",
     "output_type": "stream",
     "text": [
      "The combined graph after pruning:\n",
      "number of nodes 16932\n",
      "number of edges 147797\n"
     ]
    }
   ],
   "source": [
    "threshold = 3\n",
    "prunedCombinedGraph = pruningGraph(combinedGraph, threshold)\n",
    "print(\"The combined graph after pruning:\")\n",
    "print(\"number of nodes\", prunedCombinedGraph.number_of_nodes())\n",
    "print(\"number of edges\", prunedCombinedGraph.number_of_edges())"
   ]
  },
  {
   "cell_type": "markdown",
   "metadata": {},
   "source": [
    "# Visualize a subgraph in the combined graph"
   ]
  },
  {
   "cell_type": "code",
   "execution_count": 27,
   "metadata": {},
   "outputs": [
    {
     "name": "stdout",
     "output_type": "stream",
     "text": [
      "(entity1, entity2, edge weight)\n",
      "(pneumonia, fever, 1113)\n",
      "(pneumonia, headache, 122)\n",
      "(pneumonia, cough, 679)\n",
      "(pneumonia, diarrhea, 190)\n",
      "(pneumonia, remdesivir, 93)\n",
      "(pneumonia, hydroxychloroquine, 175)\n",
      "(remdesivir, hydroxychloroquine, 313)\n",
      "(remdesivir, cough, 36)\n",
      "(remdesivir, fever, 70)\n",
      "(remdesivir, headache, 3)\n",
      "(remdesivir, diarrhea, 4)\n",
      "(cough, fever, 2569)\n",
      "(cough, diarrhea, 396)\n",
      "(cough, headache, 375)\n",
      "(cough, hydroxychloroquine, 157)\n",
      "(headache, fever, 507)\n",
      "(headache, diarrhea, 181)\n",
      "(headache, hydroxychloroquine, 23)\n",
      "(fever, diarrhea, 624)\n",
      "(fever, hydroxychloroquine, 235)\n",
      "(hydroxychloroquine, diarrhea, 54)\n"
     ]
    },
    {
     "data": {
      "image/png": "[encoded data removed]",
      "text/plain": [
       "<Figure size 432x432 with 1 Axes>"
      ]
     },
     "metadata": {},
     "output_type": "display_data"
    }
   ],
   "source": [
    "H = combinedGraph.subgraph(['fever','cough','headache','pneumonia','diarrhea', 'hydroxychloroquine','remdesivir'])\n",
    "colors = []\n",
    "print(\"(entity1, entity2, edge weight)\")\n",
    "for (u, v, wt) in H.edges.data('weight'):\n",
    "    print(f\"({u}, {v}, {wt})\")\n",
    "    colors.append(wt)\n",
    "pos = nx.spring_layout(H)\n",
    "#colors = range(len(H.edges))\n",
    "options = {\n",
    "    \"node_color\": \"#A0CBE2\",\n",
    "    \"edge_color\": colors,\n",
    "    \"width\": 10,\n",
    "    \"edge_cmap\": plt.cm.Blues,\n",
    "    \"with_labels\": True,\n",
    "}\n",
    "plt.figure(figsize=(6,6))\n",
    "nx.draw(H, pos, **options)\n",
    "kg_to_json(combinedGraph, \"kg_results/full_kg.json\")\n",
    "kg_to_json(prunedCombinedGraph, \"kg_results/full_kg_pruned.json\")\n",
    "plt.show()"
   ]
  },
  {
   "cell_type": "code",
   "execution_count": null,
   "metadata": {},
   "outputs": [],
   "source": []
  },
  {
   "cell_type": "code",
   "execution_count": null,
   "metadata": {},
   "outputs": [],
   "source": []
  }
 ],
 "metadata": {
  "kernelspec": {
   "display_name": "Python 3",
   "language": "python",
   "name": "python3"
  },
  "language_info": {
   "codemirror_mode": {
    "name": "ipython",
    "version": 3
   },
   "file_extension": ".py",
   "mimetype": "text/x-python",
   "name": "python",
   "nbconvert_exporter": "python",
   "pygments_lexer": "ipython3",
   "version": "3.6.10"
  }
 },
 "nbformat": 4,
 "nbformat_minor": 4
}
