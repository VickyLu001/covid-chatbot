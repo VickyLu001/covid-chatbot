{
 "cells": [
  {
   "cell_type": "code",
   "execution_count": 2,
   "metadata": {},
   "outputs": [],
   "source": [
    "from scipy.optimize import linear_sum_assignment\n",
    "import numpy as np\n",
    "import pandas as pd\n",
    "import sqlite3"
   ]
  },
  {
   "cell_type": "code",
   "execution_count": 6,
   "metadata": {},
   "outputs": [],
   "source": [
    "con = sqlite3.connect(\"/collab/rice_capstone/wlu5/rasa-analysis/conversation.db\")\n",
    "conversation_data = pd.read_sql_query(\"SELECT * FROM patient_profile\", con)\n",
    "con.close()"
   ]
  },
  {
   "cell_type": "code",
   "execution_count": 8,
   "metadata": {},
   "outputs": [
    {
     "data": {
      "text/html": [
       "<div>\n",
       "<style scoped>\n",
       "    .dataframe tbody tr th:only-of-type {\n",
       "        vertical-align: middle;\n",
       "    }\n",
       "\n",
       "    .dataframe tbody tr th {\n",
       "        vertical-align: top;\n",
       "    }\n",
       "\n",
       "    .dataframe thead th {\n",
       "        text-align: right;\n",
       "    }\n",
       "</style>\n",
       "<table border=\"1\" class=\"dataframe\">\n",
       "  <thead>\n",
       "    <tr style=\"text-align: right;\">\n",
       "      <th></th>\n",
       "      <th>index</th>\n",
       "      <th>patient_id</th>\n",
       "      <th>session_id</th>\n",
       "      <th>symptoms</th>\n",
       "      <th>drugs</th>\n",
       "    </tr>\n",
       "  </thead>\n",
       "  <tbody>\n",
       "    <tr>\n",
       "      <th>0</th>\n",
       "      <td>0</td>\n",
       "      <td>ba5ea0d21d854bf2afac4d5a04da02d8</td>\n",
       "      <td>1</td>\n",
       "      <td></td>\n",
       "      <td>[\"hydroxychloroquine\"]</td>\n",
       "    </tr>\n",
       "    <tr>\n",
       "      <th>1</th>\n",
       "      <td>1</td>\n",
       "      <td>0484a965229040df9f52773164618f10</td>\n",
       "      <td>1</td>\n",
       "      <td></td>\n",
       "      <td>[\"hydroxychloroquine\"]</td>\n",
       "    </tr>\n",
       "    <tr>\n",
       "      <th>2</th>\n",
       "      <td>2</td>\n",
       "      <td>d015f1c7f87242759ca601080f01b56a</td>\n",
       "      <td>1</td>\n",
       "      <td>[\"headache\"]</td>\n",
       "      <td></td>\n",
       "    </tr>\n",
       "    <tr>\n",
       "      <th>3</th>\n",
       "      <td>3</td>\n",
       "      <td>fecdd55d02554b0c9d7f4960e9213c7b</td>\n",
       "      <td>1</td>\n",
       "      <td>[\"headache\"]</td>\n",
       "      <td></td>\n",
       "    </tr>\n",
       "    <tr>\n",
       "      <th>4</th>\n",
       "      <td>4</td>\n",
       "      <td>5223fe5b8d4143e894e7d9142e674940</td>\n",
       "      <td>1</td>\n",
       "      <td>[\"headache\"]</td>\n",
       "      <td></td>\n",
       "    </tr>\n",
       "    <tr>\n",
       "      <th>5</th>\n",
       "      <td>5</td>\n",
       "      <td>42613706c7444af4ac33a316d0dcc2a8</td>\n",
       "      <td>1</td>\n",
       "      <td>[\"headache\"]</td>\n",
       "      <td></td>\n",
       "    </tr>\n",
       "    <tr>\n",
       "      <th>6</th>\n",
       "      <td>6</td>\n",
       "      <td>42613706c7444af4ac33a316d0dcc2a8</td>\n",
       "      <td>2</td>\n",
       "      <td>[\"nose\", \"coughing\", \"headache\"]</td>\n",
       "      <td></td>\n",
       "    </tr>\n",
       "    <tr>\n",
       "      <th>7</th>\n",
       "      <td>7</td>\n",
       "      <td>e65db7bea39841c49ed801cc97de8d87</td>\n",
       "      <td>1</td>\n",
       "      <td>[\"headache\"]</td>\n",
       "      <td></td>\n",
       "    </tr>\n",
       "  </tbody>\n",
       "</table>\n",
       "</div>"
      ],
      "text/plain": [
       "   index                        patient_id  session_id  \\\n",
       "0      0  ba5ea0d21d854bf2afac4d5a04da02d8           1   \n",
       "1      1  0484a965229040df9f52773164618f10           1   \n",
       "2      2  d015f1c7f87242759ca601080f01b56a           1   \n",
       "3      3  fecdd55d02554b0c9d7f4960e9213c7b           1   \n",
       "4      4  5223fe5b8d4143e894e7d9142e674940           1   \n",
       "5      5  42613706c7444af4ac33a316d0dcc2a8           1   \n",
       "6      6  42613706c7444af4ac33a316d0dcc2a8           2   \n",
       "7      7  e65db7bea39841c49ed801cc97de8d87           1   \n",
       "\n",
       "                           symptoms                   drugs  \n",
       "0                                    [\"hydroxychloroquine\"]  \n",
       "1                                    [\"hydroxychloroquine\"]  \n",
       "2                      [\"headache\"]                          \n",
       "3                      [\"headache\"]                          \n",
       "4                      [\"headache\"]                          \n",
       "5                      [\"headache\"]                          \n",
       "6  [\"nose\", \"coughing\", \"headache\"]                          \n",
       "7                      [\"headache\"]                          "
      ]
     },
     "execution_count": 8,
     "metadata": {},
     "output_type": "execute_result"
    }
   ],
   "source": [
    "conversation_data"
   ]
  },
  {
   "cell_type": "code",
   "execution_count": 11,
   "metadata": {},
   "outputs": [],
   "source": [
    "from pymagnitude import *"
   ]
  },
  {
   "cell_type": "code",
   "execution_count": 12,
   "metadata": {},
   "outputs": [
    {
     "ename": "DatabaseError",
     "evalue": "database disk image is malformed",
     "output_type": "error",
     "traceback": [
      "\u001b[0;31m\u001b[0m",
      "\u001b[0;31mDatabaseError\u001b[0mTraceback (most recent call last)",
      "\u001b[0;32m<ipython-input-12-2d233e0aa41b>\u001b[0m in \u001b[0;36m<module>\u001b[0;34m\u001b[0m\n\u001b[1;32m      1\u001b[0m \u001b[0;31m# Load in the word embeddings pre-trained on the dataset\u001b[0m\u001b[0;34m\u001b[0m\u001b[0;34m\u001b[0m\u001b[0;34m\u001b[0m\u001b[0m\n\u001b[0;32m----> 2\u001b[0;31m \u001b[0mpre_trained_embeddings\u001b[0m \u001b[0;34m=\u001b[0m \u001b[0mMagnitude\u001b[0m\u001b[0;34m(\u001b[0m\u001b[0;34m\"../data/cord19-300d.magnitude\"\u001b[0m\u001b[0;34m)\u001b[0m\u001b[0;34m\u001b[0m\u001b[0;34m\u001b[0m\u001b[0m\n\u001b[0m",
      "\u001b[0;32m/opt/conda/lib/python3.6/site-packages/pymagnitude/__init__.py\u001b[0m in \u001b[0;36m__init__\u001b[0;34m(self, path, stream, stream_options, lazy_loading, blocking, normalized, use_numpy, case_insensitive, pad_to_length, truncate_left, pad_left, placeholders, ngram_oov, supress_warnings, batch_size, eager, language, dtype, devices, temp_dir, log, _namespace, _number_of_values)\u001b[0m\n\u001b[1;32m    358\u001b[0m         \u001b[0;31m# Get metadata about the vectors\u001b[0m\u001b[0;34m\u001b[0m\u001b[0;34m\u001b[0m\u001b[0;34m\u001b[0m\u001b[0m\n\u001b[1;32m    359\u001b[0m         self.length = self._db().execute(\n\u001b[0;32m--> 360\u001b[0;31m             \"SELECT value FROM magnitude_format WHERE key='size'\") \\\n\u001b[0m\u001b[1;32m    361\u001b[0m             \u001b[0;34m.\u001b[0m\u001b[0mfetchall\u001b[0m\u001b[0;34m(\u001b[0m\u001b[0;34m)\u001b[0m\u001b[0;34m[\u001b[0m\u001b[0;36m0\u001b[0m\u001b[0;34m]\u001b[0m\u001b[0;34m[\u001b[0m\u001b[0;36m0\u001b[0m\u001b[0;34m]\u001b[0m\u001b[0;34m\u001b[0m\u001b[0;34m\u001b[0m\u001b[0m\n\u001b[1;32m    362\u001b[0m         version_query = self._db().execute(\n",
      "\u001b[0;31mDatabaseError\u001b[0m: database disk image is malformed"
     ]
    }
   ],
   "source": [
    "# Load in the word embeddings pre-trained on the dataset\n",
    "pre_trained_embeddings = Magnitude(\"../data/cord19-300d.magnitude\")"
   ]
  },
  {
   "cell_type": "code",
   "execution_count": null,
   "metadata": {},
   "outputs": [],
   "source": []
  }
 ],
 "metadata": {
  "kernelspec": {
   "display_name": "Python 3",
   "language": "python",
   "name": "python3"
  },
  "language_info": {
   "codemirror_mode": {
    "name": "ipython",
    "version": 3
   },
   "file_extension": ".py",
   "mimetype": "text/x-python",
   "name": "python",
   "nbconvert_exporter": "python",
   "pygments_lexer": "ipython3",
   "version": "3.6.10"
  }
 },
 "nbformat": 4,
 "nbformat_minor": 4
}
