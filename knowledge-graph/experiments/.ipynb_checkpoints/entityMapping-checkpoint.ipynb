{
 "cells": [
  {
   "cell_type": "code",
   "execution_count": 7,
   "metadata": {},
   "outputs": [],
   "source": [
    "import json\n",
    "import sys\n",
    "sys.path.append(\"..\")\n",
    "from entityMapping import saveEntityPaperIDMapping"
   ]
  },
  {
   "cell_type": "code",
   "execution_count": 8,
   "metadata": {},
   "outputs": [
    {
     "name": "stdout",
     "output_type": "stream",
     "text": [
      "{'nitric oxide': ['02tnwd4m'], 'no•': ['02tnwd4m'], 'rbcs': ['5yhe786e'], 'red blood cell': ['5yhe786e'], 'ferrous iron': ['8qnrcgnk'], 'monoxide': ['8qnrcgnk'], 'anti - inflammatory and': ['8qnrcgnk'], 'daily': ['jg13scgo'], 'acyclovir': ['eiqypt0m']}\n"
     ]
    }
   ],
   "source": [
    "print (saveEntityPaperIDMapping('ner_results/med7_test.txt', 'ner_results/entityPaperMapping.json'))"
   ]
  }
 ],
 "metadata": {
  "kernelspec": {
   "display_name": "Python 3",
   "language": "python",
   "name": "python3"
  },
  "language_info": {
   "codemirror_mode": {
    "name": "ipython",
    "version": 3
   },
   "file_extension": ".py",
   "mimetype": "text/x-python",
   "name": "python",
   "nbconvert_exporter": "python",
   "pygments_lexer": "ipython3",
   "version": "3.6.10"
  }
 },
 "nbformat": 4,
 "nbformat_minor": 4
}
