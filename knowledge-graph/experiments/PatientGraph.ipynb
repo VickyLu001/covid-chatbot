{
 "cells": [
  {
   "cell_type": "code",
   "execution_count": 10,
   "metadata": {},
   "outputs": [
    {
     "ename": "ImportError",
     "evalue": "cannot import name 'get_trajectory'",
     "output_type": "error",
     "traceback": [
      "\u001b[0;31m\u001b[0m",
      "\u001b[0;31mImportError\u001b[0mTraceback (most recent call last)",
      "\u001b[0;32m<ipython-input-10-906798cd3c6c>\u001b[0m in \u001b[0;36m<module>\u001b[0;34m\u001b[0m\n\u001b[1;32m      9\u001b[0m \u001b[0msys\u001b[0m\u001b[0;34m.\u001b[0m\u001b[0mpath\u001b[0m\u001b[0;34m.\u001b[0m\u001b[0mappend\u001b[0m\u001b[0;34m(\u001b[0m\u001b[0;34m\"..\"\u001b[0m\u001b[0;34m)\u001b[0m\u001b[0;34m\u001b[0m\u001b[0;34m\u001b[0m\u001b[0m\n\u001b[1;32m     10\u001b[0m \u001b[0;32mfrom\u001b[0m \u001b[0mhelpers\u001b[0m \u001b[0;32mimport\u001b[0m \u001b[0mreformat\u001b[0m\u001b[0;34m,\u001b[0m \u001b[0mprintGraph\u001b[0m\u001b[0;34m,\u001b[0m \u001b[0mjson_to_kg\u001b[0m\u001b[0;34m\u001b[0m\u001b[0;34m\u001b[0m\u001b[0m\n\u001b[0;32m---> 11\u001b[0;31m \u001b[0;32mfrom\u001b[0m \u001b[0mPatientGraph\u001b[0m \u001b[0;32mimport\u001b[0m \u001b[0mquery_kg\u001b[0m\u001b[0;34m,\u001b[0m \u001b[0mget_trajectory\u001b[0m\u001b[0;34m\u001b[0m\u001b[0;34m\u001b[0m\u001b[0m\n\u001b[0m",
      "\u001b[0;31mImportError\u001b[0m: cannot import name 'get_trajectory'"
     ]
    }
   ],
   "source": [
    "import networkx as nx\n",
    "import json\n",
    "import heapq\n",
    "import sqlite3\n",
    "import pandas as pd\n",
    "import ast\n",
    "import matplotlib.pyplot as plt\n",
    "import sys\n",
    "sys.path.append(\"..\")\n",
    "from helpers import reformat, printGraph, json_to_kg\n",
    "import sys\n",
    "sys.path.append(\"..\")\n",
    "from PatientGraph import query_kg, get_trajectory\n"
   ]
  },
  {
   "cell_type": "code",
   "execution_count": 2,
   "metadata": {},
   "outputs": [],
   "source": [
    "graph_file = \"kg_results/full_kg_pruned.json\"\n",
    "kg = json_to_kg(graph_file)"
   ]
  },
  {
   "cell_type": "code",
   "execution_count": 3,
   "metadata": {},
   "outputs": [
    {
     "data": {
      "text/html": [
       "<div>\n",
       "<style scoped>\n",
       "    .dataframe tbody tr th:only-of-type {\n",
       "        vertical-align: middle;\n",
       "    }\n",
       "\n",
       "    .dataframe tbody tr th {\n",
       "        vertical-align: top;\n",
       "    }\n",
       "\n",
       "    .dataframe thead th {\n",
       "        text-align: right;\n",
       "    }\n",
       "</style>\n",
       "<table border=\"1\" class=\"dataframe\">\n",
       "  <thead>\n",
       "    <tr style=\"text-align: right;\">\n",
       "      <th></th>\n",
       "      <th>index</th>\n",
       "      <th>patient_id</th>\n",
       "      <th>session_id</th>\n",
       "      <th>symptoms</th>\n",
       "      <th>drugs</th>\n",
       "    </tr>\n",
       "  </thead>\n",
       "  <tbody>\n",
       "    <tr>\n",
       "      <th>0</th>\n",
       "      <td>0</td>\n",
       "      <td>ba5ea0d21d854bf2afac4d5a04da02d8</td>\n",
       "      <td>1</td>\n",
       "      <td></td>\n",
       "      <td>[\"hydroxychloroquine\"]</td>\n",
       "    </tr>\n",
       "    <tr>\n",
       "      <th>1</th>\n",
       "      <td>1</td>\n",
       "      <td>0484a965229040df9f52773164618f10</td>\n",
       "      <td>1</td>\n",
       "      <td></td>\n",
       "      <td>[\"hydroxychloroquine\"]</td>\n",
       "    </tr>\n",
       "    <tr>\n",
       "      <th>2</th>\n",
       "      <td>2</td>\n",
       "      <td>d015f1c7f87242759ca601080f01b56a</td>\n",
       "      <td>1</td>\n",
       "      <td>[\"headache\"]</td>\n",
       "      <td></td>\n",
       "    </tr>\n",
       "    <tr>\n",
       "      <th>3</th>\n",
       "      <td>3</td>\n",
       "      <td>fecdd55d02554b0c9d7f4960e9213c7b</td>\n",
       "      <td>1</td>\n",
       "      <td>[\"headache\"]</td>\n",
       "      <td></td>\n",
       "    </tr>\n",
       "    <tr>\n",
       "      <th>4</th>\n",
       "      <td>4</td>\n",
       "      <td>5223fe5b8d4143e894e7d9142e674940</td>\n",
       "      <td>1</td>\n",
       "      <td>[\"headache\"]</td>\n",
       "      <td></td>\n",
       "    </tr>\n",
       "    <tr>\n",
       "      <th>5</th>\n",
       "      <td>5</td>\n",
       "      <td>42613706c7444af4ac33a316d0dcc2a8</td>\n",
       "      <td>1</td>\n",
       "      <td>[\"headache\"]</td>\n",
       "      <td></td>\n",
       "    </tr>\n",
       "    <tr>\n",
       "      <th>6</th>\n",
       "      <td>6</td>\n",
       "      <td>42613706c7444af4ac33a316d0dcc2a8</td>\n",
       "      <td>2</td>\n",
       "      <td>[\"nose\", \"coughing\"]</td>\n",
       "      <td></td>\n",
       "    </tr>\n",
       "    <tr>\n",
       "      <th>7</th>\n",
       "      <td>7</td>\n",
       "      <td>e65db7bea39841c49ed801cc97de8d87</td>\n",
       "      <td>1</td>\n",
       "      <td>[\"headache\"]</td>\n",
       "      <td></td>\n",
       "    </tr>\n",
       "  </tbody>\n",
       "</table>\n",
       "</div>"
      ],
      "text/plain": [
       "   index                        patient_id  session_id              symptoms  \\\n",
       "0      0  ba5ea0d21d854bf2afac4d5a04da02d8           1                         \n",
       "1      1  0484a965229040df9f52773164618f10           1                         \n",
       "2      2  d015f1c7f87242759ca601080f01b56a           1          [\"headache\"]   \n",
       "3      3  fecdd55d02554b0c9d7f4960e9213c7b           1          [\"headache\"]   \n",
       "4      4  5223fe5b8d4143e894e7d9142e674940           1          [\"headache\"]   \n",
       "5      5  42613706c7444af4ac33a316d0dcc2a8           1          [\"headache\"]   \n",
       "6      6  42613706c7444af4ac33a316d0dcc2a8           2  [\"nose\", \"coughing\"]   \n",
       "7      7  e65db7bea39841c49ed801cc97de8d87           1          [\"headache\"]   \n",
       "\n",
       "                    drugs  \n",
       "0  [\"hydroxychloroquine\"]  \n",
       "1  [\"hydroxychloroquine\"]  \n",
       "2                          \n",
       "3                          \n",
       "4                          \n",
       "5                          \n",
       "6                          \n",
       "7                          "
      ]
     },
     "execution_count": 3,
     "metadata": {},
     "output_type": "execute_result"
    }
   ],
   "source": [
    "# Opens saved sample conversation data\n",
    "con = sqlite3.connect(\"/collab/rice_capstone/wlu5/rasa-analysis/conversation.db\")\n",
    "conversation_data = pd.read_sql_query(\"SELECT * FROM patient_profile\", con)\n",
    "con.close()\n",
    "# Modify conversation data a bit\n",
    "conversation_data = conversation_data.replace(to_replace=['[\"nose\", \"coughing\", \"headache\"]'], value = '[\"nose\", \"coughing\"]')\n",
    "conversation_data"
   ]
  },
  {
   "cell_type": "code",
   "execution_count": 4,
   "metadata": {},
   "outputs": [
    {
     "data": {
      "image/png": "[encoded data removed]",
      "text/plain": [
       "<Figure size 1080x504 with 2 Axes>"
      ]
     },
     "metadata": {
      "needs_background": "light"
     },
     "output_type": "display_data"
    }
   ],
   "source": [
    "conversation_data['predictions'] = conversation_data.apply(lambda row: query_kg(kg, row['patient_id'], row['symptoms'], row['drugs'], 5), axis = 1)\n",
    "predictions = conversation_data['predictions'].to_list()\n",
    "symptoms = conversation_data['symptoms'].to_list()\n",
    "drugs = conversation_data['drugs'].to_list()\n",
    "\n",
    "fig, axes = plt.subplots(nrows=1, ncols=2, figsize=(15,7))\n",
    "c = 0\n",
    "patient_id_trajectory = get_trajectory()\n",
    "# Display color-coded graph for each patient in the patient trajectory\n",
    "for patient_id, predictions_over_time in patient_id_trajectory.items():\n",
    "    for i in range(len(predictions_over_time)):\n",
    "        prediction = predictions_over_time[i]\n",
    "        print (\"------\" + str(patient_id) + \"------\")\n",
    "        print (prediction)\n",
    "        predict_nodes = [val[2] for val in prediction]\n",
    "        root_nodes = [val[1] for val in prediction]\n",
    "        combined = set(predict_nodes + root_nodes)\n",
    "        H = kg.subgraph(combined)\n",
    "        \n",
    "        # Color-code patient subgraph nodes versus preexisting knowledge graph nodes\n",
    "        node_colors = []\n",
    "        for node in H:\n",
    "            if node in root_nodes:\n",
    "                node_colors.append('#FFA07A')\n",
    "            else:\n",
    "                node_colors.append('#A0CBE2')\n",
    "\n",
    "        # Thicken edges with higher weights\n",
    "        edge_colors = []\n",
    "        for (u, v, wt) in H.edges.data('weight'):\n",
    "            if (wt, u, v) in prediction or (wt, v, u) in prediction:\n",
    "                print(f\"({u}, {v}, {wt})\")\n",
    "                edge_colors.append(wt)\n",
    "            else:\n",
    "                edge_colors.append(0)\n",
    "\n",
    "        pos = nx.spring_layout(H)\n",
    "        #colors = range(len(H.edges))\n",
    "        options = {\n",
    "            \"node_color\": node_colors,\n",
    "            \"edge_color\": edge_colors,\n",
    "            \"width\": 4,\n",
    "            \"edge_cmap\": plt.cm.Blues,\n",
    "            \"with_labels\": True,\n",
    "        }\n",
    "        nx.draw(H, pos, **options, ax=axes[c])\n",
    "        c += 1\n"
   ]
  }
 ],
 "metadata": {
  "kernelspec": {
   "display_name": "Python 3",
   "language": "python",
   "name": "python3"
  },
  "language_info": {
   "codemirror_mode": {
    "name": "ipython",
    "version": 3
   },
   "file_extension": ".py",
   "mimetype": "text/x-python",
   "name": "python",
   "nbconvert_exporter": "python",
   "pygments_lexer": "ipython3",
   "version": "3.6.10"
  }
 },
 "nbformat": 4,
 "nbformat_minor": 4
}
